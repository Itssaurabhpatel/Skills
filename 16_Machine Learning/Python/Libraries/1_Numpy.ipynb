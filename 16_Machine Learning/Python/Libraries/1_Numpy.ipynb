{
 "cells": [
  {
   "cell_type": "code",
   "execution_count": null,
   "metadata": {},
   "outputs": [],
   "source": []
  },
  {
   "cell_type": "markdown",
   "metadata": {},
   "source": [
    "# NumPy (Numerical Python)\n",
    "\n",
    " "
   ]
  },
  {
   "cell_type": "markdown",
   "metadata": {},
   "source": [
    "What is NumPy?\n",
    "***************\n",
    "NumPy (Numerical Python) is a library for working with arrays and mathematical operations in Python. It provides support for large, multi-dimensional arrays and matrices, and is the foundation of most scientific computing in Python.\n",
    "\n",
    "__Key Features of NumPy__\n",
    "************************\n",
    "\n",
    "1. Multi-dimensional arrays: NumPy arrays can have any number of dimensions, and can be indexed and sliced like Python lists.\n",
    "2. Vectorized operations: NumPy provides a wide range of mathematical operations that can be applied to entire arrays at once, making it much faster than working with Python lists.\n",
    "3. Broadcasting: NumPy arrays can be broadcasted to perform operations on arrays with different shapes and sizes.\n",
    "4. Data types: NumPy arrays can have a variety of data types, including integers, floating-point numbers, and complex numbers.\n",
    "\n",
    "__NumPy Data Types__\n",
    "*******************\n",
    "1. int8, int16, int32, int64: Signed integer types\n",
    "2. uint8, uint16, uint32, uint64: Unsigned integer types\n",
    "3. float16, float32, float64: Floating-point number types\n",
    "4. complex64, complex128: Complex number types\n",
    "5. bool: Boolean type\n",
    "6. object: Object type (used for arrays of Python objects)\n",
    "\n",
    "__NumPy Array Operations__\n",
    "*******************************\n",
    "1. Basic operations: +, -, *, /, **, etc.\n",
    "1. <Element-wise operations:> np.sin(), np.cos(), np.exp(), etc.\n",
    "1. Matrix operations: np.dot(), np.matmul(), np.linalg.inv(), etc.\n",
    "1. Statistical operations: np.mean(), np.median(), np.std(), etc.\n",
    "1. Indexing and slicing: arr[0], arr[0:5], arr[:, 0], etc.\n",
    "\n",
    "__NumPy Functions__\n",
    "***********************\n",
    "\n",
    "1. np.array(): Create a NumPy array from a Python list or other iterable.\n",
    "1. np.zeros(): Create a NumPy array filled with zeros.\n",
    "1. np.ones(): Create a NumPy array filled with ones.\n",
    "1. np.random.rand(): Create a NumPy array filled with random numbers.\n",
    "1. np.linspace(): Create a NumPy array with evenly spaced values.\n",
    "1. np.sort(): Sort a NumPy array.\n",
    "1. np.reshape(): Reshape a NumPy array.\n",
    "\n",
    "__NumPy Indexing and Slicing__\n",
    "*********************\n",
    "1. Basic indexing: arr[0], arr[1], etc.\n",
    "1. Slice indexing: arr[0:5], arr[1:3], etc.\n",
    "1. Multi-dimensional indexing: arr[0, 1], arr[1, 2], etc.\n",
    "1. Boolean indexing: arr[arr > 0], arr[arr < 0], etc.\n",
    "\n",
    "__Why use NumPy__\n",
    "***********\n",
    "1. Speed:Numpy aims to provide an array object that is up to 50x faster than traditional python lists.\n",
    "1. Memory efficiency\n",
    "1. Vectorized operations\n",
    "1. Broadcasting\n",
    "1. Interoperability\n",
    "1. Scientific computing\n",
    "1. Data analysis \n"
   ]
  },
  {
   "cell_type": "markdown",
   "metadata": {},
   "source": []
  },
  {
   "cell_type": "code",
   "execution_count": 18,
   "metadata": {},
   "outputs": [],
   "source": [
    "import numpy as np"
   ]
  },
  {
   "cell_type": "code",
   "execution_count": 5,
   "metadata": {},
   "outputs": [
    {
     "name": "stdout",
     "output_type": "stream",
     "text": [
      "[1 2 3] <class 'numpy.ndarray'>\n"
     ]
    }
   ],
   "source": [
    "arr = np.array([1,2,3])\n",
    "print(arr,type(arr))"
   ]
  },
  {
   "cell_type": "code",
   "execution_count": 6,
   "metadata": {},
   "outputs": [
    {
     "name": "stdout",
     "output_type": "stream",
     "text": [
      "[1 2 3 4 5] <class 'numpy.ndarray'>\n"
     ]
    }
   ],
   "source": [
    "# Passing tuple\n",
    "t = np.array((1,2,3,4,5))\n",
    "print(t,type(t))"
   ]
  },
  {
   "cell_type": "markdown",
   "metadata": {},
   "source": [
    "# Types of Array\n",
    "1. 1-D\n",
    "2. 2-D\n",
    "3. 3-D\n",
    "\n",
    "__How to check Dimention__\n",
    "1. varName.ndimm()"
   ]
  },
  {
   "cell_type": "code",
   "execution_count": 8,
   "metadata": {},
   "outputs": [
    {
     "name": "stdout",
     "output_type": "stream",
     "text": [
      "20 <class 'numpy.ndarray'>\n",
      "Dimention : 0\n"
     ]
    }
   ],
   "source": [
    "# Dimention\n",
    "# 0 - in array have only one element it called\n",
    "\n",
    "arr = np.array(20)\n",
    "print(arr,type(arr))\n",
    "print(\"Dimention :\",arr.ndim)"
   ]
  },
  {
   "cell_type": "code",
   "execution_count": 9,
   "metadata": {},
   "outputs": [
    {
     "name": "stdout",
     "output_type": "stream",
     "text": [
      "[1 2 3 4 5] <class 'numpy.ndarray'>\n",
      "Dimention : 1\n"
     ]
    }
   ],
   "source": [
    "# 1-d array\n",
    "arr = np.array([1,2,3,4,5])\n",
    "print(arr,type(arr))\n",
    "print(\"Dimention :\",arr.ndim)"
   ]
  },
  {
   "cell_type": "code",
   "execution_count": 13,
   "metadata": {},
   "outputs": [
    {
     "name": "stdout",
     "output_type": "stream",
     "text": [
      "[[1 2 3]\n",
      " [3 4 5]] <class 'numpy.ndarray'>\n",
      "Dimension: 2\n"
     ]
    }
   ],
   "source": [
    "# 2-D Array\n",
    "\n",
    "arr = np.array([[1, 2, 3], [3, 4, 5]])\n",
    "print(arr, type(arr))\n",
    "print(\"Dimension:\", arr.ndim)\n"
   ]
  },
  {
   "cell_type": "code",
   "execution_count": 20,
   "metadata": {},
   "outputs": [
    {
     "name": "stdout",
     "output_type": "stream",
     "text": [
      "[[[1 2 3]\n",
      "  [3 4 5]]\n",
      "\n",
      " [[4 5 6]\n",
      "  [7 8 9]]] <class 'numpy.ndarray'>\n",
      "Dimension: 3\n"
     ]
    }
   ],
   "source": [
    "# 3-D array\n",
    "\n",
    "arr = np.array([[[1, 2, 3], [3, 4, 5]], [[4, 5, 6], [7, 8, 9]]])\n",
    "print(arr, type(arr))\n",
    "print(\"Dimension:\", arr.ndim)\n"
   ]
  },
  {
   "cell_type": "markdown",
   "metadata": {},
   "source": [
    "__How to make n Dimention array__"
   ]
  },
  {
   "cell_type": "code",
   "execution_count": 15,
   "metadata": {},
   "outputs": [
    {
     "name": "stdout",
     "output_type": "stream",
     "text": [
      "[[[[[[1 2 3 4]]]]]] <class 'numpy.ndarray'>\n"
     ]
    }
   ],
   "source": [
    "arr = np.array([1,2,3,4],ndmin=6)\n",
    "print(arr,type(arr))"
   ]
  },
  {
   "cell_type": "markdown",
   "metadata": {},
   "source": [
    "_"
   ]
  },
  {
   "cell_type": "markdown",
   "metadata": {},
   "source": [
    "__How to access Element in all types of array__"
   ]
  },
  {
   "cell_type": "code",
   "execution_count": 13,
   "metadata": {},
   "outputs": [
    {
     "name": "stdout",
     "output_type": "stream",
     "text": [
      "5\n",
      "9\n",
      "6\n"
     ]
    }
   ],
   "source": [
    "# 2-D\n",
    "arr = np.array([[1, 2, 3], [4, 5, 6]])\n",
    "print(arr[1, 1]) \n",
    "\n",
    "# 3-D\n",
    "arr = np.array([[[1, 2, 3], [4, 5, 6]], [[7, 8, 9], [10, 11, 12]]])\n",
    "print(arr[1, 0, 2]) \n",
    "# {Positions: Bracket,row,col}\n",
    "# Access the element at depth 1, row 0, column 2 (9)\n",
    "\n",
    "# 4-D\n",
    "arr = np.array([[[[1, 2], [3, 4]], [[5, 6], [7, 8]]]])\n",
    "print(arr[0, 1, 0, 1])  \n",
    "# {Positions: Block,Bracket,row,col}\n",
    "# Access depth 0, block 1, row 0, column 1 (6)\n"
   ]
  },
  {
   "cell_type": "markdown",
   "metadata": {},
   "source": [
    "# Part-II\n",
    "1. Slicing of NumPy arrays\n",
    "2. Functions"
   ]
  },
  {
   "cell_type": "code",
   "execution_count": 34,
   "metadata": {},
   "outputs": [
    {
     "name": "stdout",
     "output_type": "stream",
     "text": [
      "[1 2 3 4]\n",
      "[[3 4 5]]\n"
     ]
    }
   ],
   "source": [
    "# Slicing of NumPy arrays\n",
    "\n",
    "# 1D\n",
    "arr = np.array([1,2,3,4,5])\n",
    "print(arr[0:4])\n",
    "\n",
    "# 2D\n",
    "arr = np.array([[(1,2,3),(3,4,5)]])\n",
    "print(arr[0,1:2])\n"
   ]
  },
  {
   "cell_type": "markdown",
   "metadata": {},
   "source": [
    "# Data types\n",
    "1.   i - int\n",
    "1.   b - bool\n",
    "1.   u - unsigned int\n",
    "1.   g - float\n",
    "1.   c - complex\n",
    "1.   M - datetime\n",
    "1.   m - timedelta\n",
    "1.   O - object\n",
    "1.   S - string\n",
    "1.   U - unicode string\n",
    "1.   V - fixed chunk"
   ]
  },
  {
   "cell_type": "code",
   "execution_count": 39,
   "metadata": {},
   "outputs": [
    {
     "name": "stdout",
     "output_type": "stream",
     "text": [
      "int32\n",
      "<U1\n"
     ]
    }
   ],
   "source": [
    "# Checking the data type of array\n",
    "arr = np.array([[(1,2,3),(3,4,5)]])\n",
    "print(arr.dtype)\n",
    "\n",
    "arr = np.array(['a','b','c'])\n",
    "print(arr.dtype)\n"
   ]
  },
  {
   "cell_type": "code",
   "execution_count": 43,
   "metadata": {},
   "outputs": [
    {
     "name": "stdout",
     "output_type": "stream",
     "text": [
      "[b'1' b'2' b'3']\n",
      "|S1\n"
     ]
    }
   ],
   "source": [
    "# Creating array eith difined data type\n",
    "\n",
    "arr = np.array([1,2,3], dtype = 'S')\n",
    "print(arr)\n",
    "print(arr.dtype)\n",
    "\n",
    "arr = np.array([1,2,3], dtype = i4') # i4 means -int32\n",
    "print(arr)\n",
    "print(arr.dtype)\n"
   ]
  },
  {
   "cell_type": "markdown",
   "metadata": {},
   "source": [
    "# NumPy Array shape"
   ]
  },
  {
   "cell_type": "code",
   "execution_count": 46,
   "metadata": {},
   "outputs": [
    {
     "name": "stdout",
     "output_type": "stream",
     "text": [
      "(2, 3)\n",
      "(1, 3, 3)\n"
     ]
    }
   ],
   "source": [
    "# print shape of \n",
    "# 2D array\n",
    "arr = np.array([[1,2,3],[3,4,5]])\n",
    "print(arr.shape)\n",
    "\n",
    "# 3D \n",
    "arr = np.array([[[1,2,3],[3,4,5],[5,6,7]]])\n",
    "print(arr.shape)\n"
   ]
  },
  {
   "cell_type": "markdown",
   "metadata": {},
   "source": [
    "# Joining NumPy Arrays"
   ]
  },
  {
   "cell_type": "code",
   "execution_count": 57,
   "metadata": {},
   "outputs": [
    {
     "name": "stdout",
     "output_type": "stream",
     "text": [
      "[1 2 3 3 4 5]\n",
      "[[1 2]\n",
      " [3 4]\n",
      " [5 6]\n",
      " [7 8]]\n"
     ]
    }
   ],
   "source": [
    "#1D\n",
    "a = np.array([1,2,3])\n",
    "b = np.array([3,4,5])\n",
    "\n",
    "arr = np.concatenate((a,b))\n",
    "print(arr)\n",
    "\n",
    "# 2D\n",
    "c = np.array([[1,2],[3,4]])\n",
    "d = np.array([[5,6],[7,8]])\n",
    "\n",
    "arr = np.concatenate((c,d),axis=0)\n",
    "print(arr)"
   ]
  },
  {
   "cell_type": "markdown",
   "metadata": {},
   "source": [
    "# Spliting Arrays in Parts"
   ]
  },
  {
   "cell_type": "code",
   "execution_count": 61,
   "metadata": {},
   "outputs": [
    {
     "name": "stdout",
     "output_type": "stream",
     "text": [
      "[array([1, 2, 3]), array([4, 5])]\n",
      "[array([1, 2]), array([3, 4]), array([5])]\n"
     ]
    }
   ],
   "source": [
    "arr = np.array([1,2,3,4,5])\n",
    "\n",
    "# in 2 parts\n",
    "newArr = np.array_split(arr,2)\n",
    "print(newArr)\n",
    "\n",
    "# in 3  Part\n",
    "newArr = np.array_split(arr,3)\n",
    "print(newArr)"
   ]
  },
  {
   "cell_type": "markdown",
   "metadata": {},
   "source": [
    "# Ravel & Flatten\n",
    "Convert Multi-Dimention Array into 1D array"
   ]
  },
  {
   "cell_type": "code",
   "execution_count": 71,
   "metadata": {},
   "outputs": [
    {
     "name": "stdout",
     "output_type": "stream",
     "text": [
      "[[[1 2 3]\n",
      "  [4 5 6]\n",
      "  [7 8 9]]] \n",
      "Dimention is: 3\n",
      "-----------\n",
      "[[[1 2 3]\n",
      "  [4 5 6]\n",
      "  [7 8 9]]] \n",
      "Dimention is: 3\n"
     ]
    }
   ],
   "source": [
    "m = np.array([[[1,2,3],[4,5,6],[7,8,9]]])\n",
    "print(m,\"\\nDimention is:\",m.ndim)\n",
    "\n",
    "print(\"-----------\")\n",
    "\n",
    "# Ravel : Convert Multi-Dimention Array into 1D array\n",
    "n = m.ravel()\n",
    "print(m,\"\\nDimention is:\",m.ndim)"
   ]
  },
  {
   "cell_type": "code",
   "execution_count": 75,
   "metadata": {},
   "outputs": [
    {
     "name": "stdout",
     "output_type": "stream",
     "text": [
      "[[[[1 2 3]\n",
      "   [4 5 6]\n",
      "   [7 8 9]]]] \n",
      "Dimention is: 1\n"
     ]
    }
   ],
   "source": [
    "# 4D\n",
    "c = np.array([[[[1,2,3],[4,5,6],[7,8,9]]]])\n",
    "d = c.ravel()\n",
    "print(c,\"\\nDimention is:\",d.ndim)\n"
   ]
  },
  {
   "cell_type": "markdown",
   "metadata": {},
   "source": [
    "# Unique Function\n"
   ]
  },
  {
   "cell_type": "code",
   "execution_count": 79,
   "metadata": {},
   "outputs": [
    {
     "name": "stdout",
     "output_type": "stream",
     "text": [
      "[1 2 3 4 5 3 4 5 5 5 6 6 7 2]\n",
      "[1 2 3 4 5 6 7]\n",
      "(array([1, 2, 3, 4, 5, 6, 7]), array([ 0,  1,  2,  3,  4, 10, 12], dtype=int64))\n"
     ]
    }
   ],
   "source": [
    "k = np.array([1,2,3,4,5,3,4,5,5,5,6,6,7,2])\n",
    "print(k)\n",
    "\n",
    "# Unique\n",
    "u = np.unique(k)\n",
    "print(u)\n",
    "\n",
    "# Return Index\n",
    "u = np.unique(k, return_index = True)\n",
    "print(u)"
   ]
  },
  {
   "cell_type": "markdown",
   "metadata": {},
   "source": [
    "# Delete\n"
   ]
  },
  {
   "cell_type": "code",
   "execution_count": 81,
   "metadata": {},
   "outputs": [
    {
     "name": "stdout",
     "output_type": "stream",
     "text": [
      "[1 3 4 5]\n"
     ]
    }
   ],
   "source": [
    "a = np.array([1,2,3,4,5])\n",
    "d = np.delete(a,[1])\n",
    "print(d)"
   ]
  },
  {
   "cell_type": "code",
   "execution_count": 83,
   "metadata": {},
   "outputs": [
    {
     "name": "stdout",
     "output_type": "stream",
     "text": [
      "[[1 2 3 4 5]\n",
      " [1 6 3 8 9]]\n",
      "[[1 3 4 5]\n",
      " [1 3 8 9]]\n"
     ]
    }
   ],
   "source": [
    "a = np.array([[1,2,3,4,5],[1,6,3,8,9]])\n",
    "print(a)\n",
    "d = np.delete(a,1,axis=1)\n",
    "print(d)"
   ]
  },
  {
   "cell_type": "code",
   "execution_count": null,
   "metadata": {},
   "outputs": [],
   "source": []
  }
 ],
 "metadata": {
  "kernelspec": {
   "display_name": "Python 3",
   "language": "python",
   "name": "python3"
  },
  "language_info": {
   "codemirror_mode": {
    "name": "ipython",
    "version": 3
   },
   "file_extension": ".py",
   "mimetype": "text/x-python",
   "name": "python",
   "nbconvert_exporter": "python",
   "pygments_lexer": "ipython3",
   "version": "3.12.1"
  }
 },
 "nbformat": 4,
 "nbformat_minor": 2
}
